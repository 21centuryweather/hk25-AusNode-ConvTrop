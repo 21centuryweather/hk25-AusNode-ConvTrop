{
 "cells": [
  {
   "cell_type": "code",
   "execution_count": null,
   "id": "dbd3dda4-3e7d-45c9-93c7-1390a283bcc6",
   "metadata": {},
   "outputs": [],
   "source": [
    "import xarray as xr\n",
    "import healpy as hp\n",
    "import easygems.healpix as egh\n",
    "import matplotlib as mpl\n",
    "import matplotlib.pyplot as plt\n",
    "import numpy as np\n",
    "import cartopy.crs as ccrs"
   ]
  },
  {
   "cell_type": "code",
   "execution_count": null,
   "id": "05ef6423-4ca3-4633-9d86-18bdcf4c3249",
   "metadata": {},
   "outputs": [],
   "source": [
    "zoom = '10'\n",
    "file = '/g/data/qx55/germany_node/d3hp003.zarr/PT3H_mean_z' + zoom + '_atm.zarr'\n",
    "\n",
    "ds2d = xr.open_zarr(file)\n",
    "ds2d"
   ]
  },
  {
   "cell_type": "code",
   "execution_count": null,
   "id": "0bfd28eb-3e2f-4a19-8a65-2c26e654feee",
   "metadata": {},
   "outputs": [],
   "source": [
    "def get_nn_lon_lat_index(nside, lons, lats):\n",
    "    \"\"\"\n",
    "    nside: integer, power of 2. The return of hp.get_nside()\n",
    "    lons: uniques values of longitudes\n",
    "    lats: uniques values of latitudes\n",
    "    returns: array with the HEALPix cells that are closest to the lon/lat grid\n",
    "    \"\"\"\n",
    "    lons2, lats2 = np.meshgrid(lons, lats)\n",
    "    return xr.DataArray(\n",
    "        hp.ang2pix(nside, lons2, lats2, nest = True, lonlat = True),\n",
    "        coords=[(\"lat\", lats), (\"lon\", lons)],\n",
    "    )"
   ]
  },
  {
   "cell_type": "code",
   "execution_count": null,
   "id": "f872aec4-ff6f-4318-bbd0-a11133589b8d",
   "metadata": {},
   "outputs": [],
   "source": [
    "olr = ds2d[\"rlut\"]\n",
    "olr"
   ]
  },
  {
   "cell_type": "code",
   "execution_count": null,
   "id": "029c4451-15f4-4caa-a38a-c659ea7f564b",
   "metadata": {},
   "outputs": [],
   "source": [
    "nside = hp.get_nside(olr)\n",
    "nside"
   ]
  },
  {
   "cell_type": "code",
   "execution_count": null,
   "id": "6f1ccfe1-04c2-4dde-a33c-e0d79fd483c3",
   "metadata": {},
   "outputs": [],
   "source": [
    "res = 0.25\n",
    "res_str = \"0p25\"\n",
    "\n",
    "lon = np.arange(-180.0, 180.0, res)\n",
    "lat = np.arange(-30.0, 30.0 + res, res)"
   ]
  },
  {
   "cell_type": "code",
   "execution_count": null,
   "id": "18e584fc-f102-411a-8b01-91b84c4fa2bd",
   "metadata": {},
   "outputs": [],
   "source": [
    "cells = get_nn_lon_lat_index(nside, lon, lat)\n",
    "cells"
   ]
  },
  {
   "cell_type": "code",
   "execution_count": null,
   "id": "1736bdd0-bd18-4fca-adec-e51f02ef1c9f",
   "metadata": {},
   "outputs": [],
   "source": [
    "%%time\n",
    "\n",
    "olr_regridded = olr.isel(cell=cells)\n",
    "olr_regridded = olr_regridded.rename({\"lon\": \"longitude\", \"lat\": \"latitude\"})\n",
    "\n",
    "del olr_regridded.attrs[\"hiopy::time_method\"]\n",
    "del olr_regridded.attrs[\"hiopy::nnn\"]\n",
    "del olr_regridded.attrs[\"hiopy::enable\"]\n",
    "\n",
    "olr_regridded"
   ]
  },
  {
   "cell_type": "code",
   "execution_count": null,
   "id": "b336739d-ec5d-46db-a65c-f71e5cce84a2",
   "metadata": {},
   "outputs": [],
   "source": [
    "fileo = f\"/scratch/gb02/mr4682/data/regridded/ICON/olr.zoom{zoom}.to.1p0deg.nc\"\n",
    "\n",
    "olr_regridded.to_netcdf(path=fileo)"
   ]
  },
  {
   "cell_type": "code",
   "execution_count": null,
   "id": "9b54073a-79f0-4b4d-a49b-fabf42dedccb",
   "metadata": {},
   "outputs": [],
   "source": []
  }
 ],
 "metadata": {
  "kernelspec": {
   "display_name": "hackathon_kernel",
   "language": "python",
   "name": "hackathon_env"
  },
  "language_info": {
   "codemirror_mode": {
    "name": "ipython",
    "version": 3
   },
   "file_extension": ".py",
   "mimetype": "text/x-python",
   "name": "python",
   "nbconvert_exporter": "python",
   "pygments_lexer": "ipython3",
   "version": "3.10.14"
  }
 },
 "nbformat": 4,
 "nbformat_minor": 5
}

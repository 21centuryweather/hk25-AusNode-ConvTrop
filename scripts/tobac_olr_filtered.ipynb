{
 "cells": [
  {
   "cell_type": "code",
   "execution_count": 1,
   "id": "5c966c8c-d9b0-46eb-b20e-c545aaa71e55",
   "metadata": {},
   "outputs": [],
   "source": [
    "import numpy as np\n",
    "import pandas as pd\n",
    "import xarray as xr\n",
    "import iris\n",
    "import tobac\n",
    "import sys\n",
    "from glob import glob\n",
    "import matplotlib as mpl\n",
    "import matplotlib.pyplot as plt\n",
    "import matplotlib.animation as ani\n",
    "from IPython.display import HTML\n",
    "from cartopy import crs as ccrs\n",
    "from cartopy import util as cutil\n",
    "from cartopy.mpl.ticker import LatitudeFormatter, LongitudeFormatter\n",
    "\n",
    "%matplotlib inline"
   ]
  },
  {
   "cell_type": "code",
   "execution_count": null,
   "id": "b509bba4-1eb4-4910-938c-9a656c699959",
   "metadata": {},
   "outputs": [],
   "source": [
    "mode = \"Moisture Mode\"\n",
    "\n",
    "diri = \"/scratch/gb02/mr4682/data/regridded/UM/not_removing_tc/\"\n",
    "\n",
    "if mode == \"Moisture Mode\":\n",
    "    mode_str = \"moisture.mode\"\n",
    "    mode_var_name = \"moisture_mode\"\n",
    "    v_max = 9.0\n",
    "elif mode == \"Mixed System\":\n",
    "    mode_str = \"mixed.system\"\n",
    "    mode_var_name = \"mixed_system\"\n",
    "    v_max = 27.0\n",
    "elif mode == \"IG Wave\":\n",
    "    mode_str = \"ig.wave\"\n",
    "    mode_var_name = \"ig_wave\"\n",
    "    v_max = 50.0\n",
    "elif mode == \"Tropical Cyclone\":\n",
    "    modes_str = \"tc\"\n",
    "    mode_var_name = mode_str\n",
    "    v_max = 10.0\n",
    "else:\n",
    "    sys.exit(f\"There is no mode named {mode}!\")\n",
    "\n",
    "filei = f\"olr.zoom10.to.0p25deg.{mode_str}.nc\""
   ]
  },
  {
   "cell_type": "code",
   "execution_count": 2,
   "id": "3a21bb36-3309-4e41-9486-3ffd30ccd8d6",
   "metadata": {},
   "outputs": [],
   "source": [
    "diri = \"/scratch/gb02/mr4682/data/regridded/UM/not_removing_tc/\"\n",
    "\n",
    "ds1 = xr.open_dataset(f\"{diri}olr.zoom10.to.0p25deg.moisture.mode.nc\")\n",
    "ds2 = xr.open_dataset(f\"{diri}olr.zoom10.to.0p25deg.mixed.system.nc\")\n",
    "ds3 = xr.open_dataset(f\"{diri}olr.zoom10.to.0p25deg.ig.wave.nc\")"
   ]
  },
  {
   "cell_type": "code",
   "execution_count": 3,
   "id": "0f0bc988-d650-47a3-9304-f8da9e78c744",
   "metadata": {},
   "outputs": [],
   "source": [
    "time_start = \"2020-12-01 00:00:00\"\n",
    "time_end = \"2021-02-28 21:00:00\""
   ]
  },
  {
   "cell_type": "code",
   "execution_count": 4,
   "id": "d814b0b2-731e-4af3-820b-da6aa1069e5d",
   "metadata": {},
   "outputs": [],
   "source": [
    "time = ds1[\"time\"].sel(time=slice(time_start, time_end))\n",
    "latitude = ds1[\"latitude\"]\n",
    "longitude = ds1[\"longitude\"]"
   ]
  },
  {
   "cell_type": "code",
   "execution_count": 5,
   "id": "d72fbcf1-ed51-4f0e-b886-06be5fcecbfe",
   "metadata": {},
   "outputs": [],
   "source": [
    "olr1 = ds1[f\"rlut_moisture_mode\"].sel(time=slice(time_start, time_end)).compute()\n",
    "olr2 = ds2[f\"rlut_mixed_system\"].sel(time=slice(time_start, time_end)).compute()\n",
    "olr3 = ds3[f\"rlut_ig_wave\"].sel(time=slice(time_start, time_end)).compute()"
   ]
  },
  {
   "cell_type": "code",
   "execution_count": 6,
   "id": "cab64bc0-0559-4d40-81db-806fc5d76333",
   "metadata": {},
   "outputs": [],
   "source": [
    "olr1_stddev = olr1.std(ddof=1)\n",
    "olr2_stddev = olr2.std(ddof=1)\n",
    "olr3_stddev = olr3.std(ddof=1)"
   ]
  },
  {
   "cell_type": "code",
   "execution_count": 7,
   "id": "4cfd8ef1-fc13-49ef-9fbb-4ba1abb7818f",
   "metadata": {},
   "outputs": [],
   "source": [
    "olr1_standardised = olr1 / olr1_stddev\n",
    "olr2_standardised = olr2 / olr2_stddev\n",
    "olr3_standardised = olr3 / olr3_stddev\n",
    "\n",
    "olr1_standardised = olr1_standardised.fillna(0.0)\n",
    "olr2_standardised = olr2_standardised.fillna(0.0)\n",
    "olr3_standardised = olr3_standardised.fillna(0.0)"
   ]
  },
  {
   "cell_type": "code",
   "execution_count": 8,
   "id": "075869d2-1c4d-4893-97e5-35b697760368",
   "metadata": {},
   "outputs": [],
   "source": [
    "dxy = np.radians(longitude.values[1] - longitude.values[0]) * 6.371e+06\n",
    "dt = (time.values[1] - time.values[0]) / np.timedelta64(1, \"s\")"
   ]
  },
  {
   "cell_type": "code",
   "execution_count": 9,
   "id": "3bf60bf8-c3b3-43d5-b0f7-cd83191957bf",
   "metadata": {},
   "outputs": [],
   "source": [
    "parameters_features = {}\n",
    "parameters_features[\"threshold\"] = [-2.0, -2.5, -3.0, -3.5, -4.0]\n",
    "parameters_features[\"target\"] = \"minimum\"\n",
    "parameters_features[\"position_threshold\"] = \"weighted_diff\"\n",
    "parameters_features[\"sigma_threshold\"] = 1.0\n",
    "parameters_features[\"n_min_threshold\"] = 4\n",
    "parameters_features[\"PBC_flag\"] = \"hdim_2\""
   ]
  },
  {
   "cell_type": "code",
   "execution_count": 11,
   "id": "1d28f405-0409-4fec-9e9f-e733af68b153",
   "metadata": {},
   "outputs": [],
   "source": [
    "Features1 = tobac.feature_detection_multithreshold(olr1_standardised, dxy, **parameters_features)\n",
    "Features2 = tobac.feature_detection_multithreshold(olr2_standardised, dxy, **parameters_features)\n",
    "Features3 = tobac.feature_detection_multithreshold(olr3_standardised, dxy, **parameters_features)"
   ]
  },
  {
   "cell_type": "code",
   "execution_count": 12,
   "id": "475a2be6-3c64-42ed-9098-acde3ce63fcb",
   "metadata": {},
   "outputs": [],
   "source": [
    "parameters_linking = {}\n",
    "parameters_linking[\"stubs\"] = 3\n",
    "parameters_linking[\"method_linking\"] = \"predict\"\n",
    "parameters_linking[\"PBC_flag\"] = \"hdim_2\"\n",
    "parameters_linking[\"min_h2\"] = 0\n",
    "parameters_linking[\"max_h2\"] = len(longitude) - 1"
   ]
  },
  {
   "cell_type": "code",
   "execution_count": 13,
   "id": "e8674689-6820-423b-9a55-758286426e32",
   "metadata": {},
   "outputs": [
    {
     "name": "stdout",
     "output_type": "stream",
     "text": [
      "Frame 719: 6 trajectories present.\n"
     ]
    }
   ],
   "source": [
    "parameters_linking[\"v_max\"] = 9.0\n",
    "\n",
    "Track1 = tobac.linking_trackpy(Features1, olr1_standardised, dt=dt, dxy=dxy, **parameters_linking)"
   ]
  },
  {
   "cell_type": "code",
   "execution_count": 14,
   "id": "51b2e491-4d0f-4172-b3d6-097d49f332c6",
   "metadata": {},
   "outputs": [
    {
     "name": "stdout",
     "output_type": "stream",
     "text": [
      "Frame 719: 12 trajectories present.\n"
     ]
    }
   ],
   "source": [
    "parameters_linking[\"v_max\"] = 27.0\n",
    "\n",
    "Track2 = tobac.linking_trackpy(Features2, olr2_standardised, dt=dt, dxy=dxy, **parameters_linking)"
   ]
  },
  {
   "cell_type": "code",
   "execution_count": 15,
   "id": "3be7f106-157b-448f-8070-89d96866d619",
   "metadata": {},
   "outputs": [
    {
     "name": "stdout",
     "output_type": "stream",
     "text": [
      "Frame 719: 83 trajectories present.\n"
     ]
    }
   ],
   "source": [
    "parameters_linking[\"v_max\"] = 50.0\n",
    "\n",
    "Track3 = tobac.linking_trackpy(Features3, olr3_standardised, dt=dt, dxy=dxy, **parameters_linking)"
   ]
  },
  {
   "cell_type": "code",
   "execution_count": 16,
   "id": "341e83b8-de8f-4fbe-b5ac-9b2399106851",
   "metadata": {},
   "outputs": [],
   "source": [
    "parameters_segmentation = {}\n",
    "parameters_segmentation[\"target\"] = \"minimum\"\n",
    "parameters_segmentation[\"method\"] = \"watershed\"\n",
    "parameters_segmentation[\"threshold\"] = -2.0\n",
    "parameters_segmentation[\"PBC_flag\"] = \"hdim_2\""
   ]
  },
  {
   "cell_type": "code",
   "execution_count": 17,
   "id": "64234c01-583b-4e59-8013-b9e456f2ff87",
   "metadata": {},
   "outputs": [
    {
     "name": "stderr",
     "output_type": "stream",
     "text": [
      "INFO:root:Start watershedding\n"
     ]
    }
   ],
   "source": [
    "Mask1, Track1 = tobac.segmentation_2D(Track1, olr1_standardised, dxy, **parameters_segmentation)"
   ]
  },
  {
   "cell_type": "code",
   "execution_count": 18,
   "id": "c7847576-51bb-495d-aadf-37b1112d2fe7",
   "metadata": {},
   "outputs": [
    {
     "name": "stderr",
     "output_type": "stream",
     "text": [
      "INFO:root:Start watershedding\n"
     ]
    }
   ],
   "source": [
    "Mask2, Track2 = tobac.segmentation_2D(Track2, olr2_standardised, dxy, **parameters_segmentation)"
   ]
  },
  {
   "cell_type": "code",
   "execution_count": 19,
   "id": "f48f9607-a198-4490-82ac-69ec6c0732f1",
   "metadata": {},
   "outputs": [
    {
     "name": "stderr",
     "output_type": "stream",
     "text": [
      "INFO:root:Start watershedding\n"
     ]
    }
   ],
   "source": [
    "Mask3, Track3 = tobac.segmentation_2D(Track3, olr3_standardised, dxy, **parameters_segmentation)"
   ]
  },
  {
   "cell_type": "code",
   "execution_count": 20,
   "id": "6272c319-b619-45ed-90a7-0f122a34a6a8",
   "metadata": {},
   "outputs": [],
   "source": [
    "time_plot_start = \"2021-01-01 00:00:00\"\n",
    "time_plot_end = \"2021-01-03 21:00:00\"\n",
    "\n",
    "time_plot = time.sel(time=slice(time_plot_start, time_plot_end))"
   ]
  },
  {
   "cell_type": "code",
   "execution_count": 22,
   "id": "37ea5510-15b8-47da-9690-cb9e842761c5",
   "metadata": {},
   "outputs": [
    {
     "name": "stderr",
     "output_type": "stream",
     "text": [
      "INFO:matplotlib.animation:Animation.save using <class 'matplotlib.animation.FFMpegWriter'>\n",
      "INFO:matplotlib.animation:MovieWriter._run: running command: ffmpeg -f rawvideo -vcodec rawvideo -s 1200x1400 -pix_fmt rgba -framerate 1.3333333333333333 -loglevel error -i pipe: -vcodec h264 -pix_fmt yuv420p -y /scratch/k10/mr4682/hk25-AusNode-ConvTrop/plots/tobac_examples.mp4\n"
     ]
    }
   ],
   "source": [
    "figx = 12.0\n",
    "figy = 14.0\n",
    "\n",
    "fig = plt.figure(figsize=(figx, figy))\n",
    "plt.close()\n",
    "\n",
    "def update(frame):\n",
    "    fig.clf()\n",
    "    time_frame = np.datetime_as_string(time_plot.values[frame], unit=\"s\")\n",
    "    \n",
    "    olr1_plot = olr1.sel(time=time_frame)\n",
    "    olr2_plot = olr2.sel(time=time_frame)\n",
    "    olr3_plot = olr3.sel(time=time_frame)\n",
    "    \n",
    "    Features1_plot = Features1.loc[pd.to_datetime(Features1[\"timestr\"]) == pd.to_datetime(time_frame)]\n",
    "    Features2_plot = Features2.loc[pd.to_datetime(Features2[\"timestr\"]) == pd.to_datetime(time_frame)]\n",
    "    Features3_plot = Features3.loc[pd.to_datetime(Features3[\"timestr\"]) == pd.to_datetime(time_frame)]\n",
    "    \n",
    "    Mask1_plot = Mask1.sel(time=time_frame)\n",
    "    Mask2_plot = Mask2.sel(time=time_frame)\n",
    "    Mask3_plot = Mask3.sel(time=time_frame)\n",
    "    \n",
    "    Mask1_plot, lon1_plot = cutil.add_cyclic(Mask1_plot, x=Mask1_plot[\"longitude\"])\n",
    "    Mask2_plot, lon2_plot = cutil.add_cyclic(Mask2_plot, x=Mask2_plot[\"longitude\"])\n",
    "    Mask3_plot, lon3_plot = cutil.add_cyclic(Mask3_plot, x=Mask3_plot[\"longitude\"])\n",
    "    \n",
    "    ax1 = fig.add_axes([1.0 / figx, 10.0 / figy, 10.0 / figx, 3.0 / figy], projection=ccrs.PlateCarree(central_longitude=210.0), aspect=\"auto\")\n",
    "    plot1 = ax1.pcolormesh(olr1_plot[\"longitude\"], olr1_plot[\"latitude\"], olr1_plot, transform=ccrs.PlateCarree(), shading=\"nearest\", cmap=\"RdBu_r\", vmin=-60.0, vmax=60.0, edgecolors=\"face\")\n",
    "    plot1_boundary = ax1.contour(lon1_plot, olr1_plot[\"latitude\"], Mask1_plot, transform=ccrs.PlateCarree(), levels=[0.5], colors=\"black\")\n",
    "    plot1_marker = ax1.scatter(x=Features1_plot[\"longitude\"], y=Features1_plot[\"latitude\"], s=15, c=\"yellow\", marker=\"x\", transform=ccrs.PlateCarree())\n",
    "    \n",
    "    ax1.coastlines()\n",
    "    ax1.set_title(\"(a) Moisture Mode\", loc=\"left\", fontsize=18.0)\n",
    "    ax1.set_title(time_frame, loc=\"right\", fontsize=18.0)\n",
    "    ax1.set_xticks(np.arange(0.0, 360.0, 60.0), crs=ccrs.PlateCarree())\n",
    "    ax1.set_yticks(np.arange(-30.0, 45.0, 15.0), crs=ccrs.PlateCarree())\n",
    "    ax1.tick_params(labelsize=18.0)\n",
    "    ax1.xaxis.set_major_formatter(LongitudeFormatter(zero_direction_label=True))\n",
    "    ax1.yaxis.set_major_formatter(LatitudeFormatter())\n",
    "    \n",
    "    ax2 = fig.add_axes([1.0 / figx, 6.0 / figy, 10.0 / figx, 3.0 / figy], projection=ccrs.PlateCarree(central_longitude=210.0), aspect=\"auto\")\n",
    "    plot2 = ax2.pcolormesh(olr2_plot[\"longitude\"], olr2_plot[\"latitude\"], olr2_plot, transform=ccrs.PlateCarree(), shading=\"nearest\", cmap=\"RdBu_r\", vmin=-60.0, vmax=60.0, edgecolors=\"face\")\n",
    "    plot2_boundary = ax2.contour(lon2_plot, olr2_plot[\"latitude\"], Mask2_plot, transform=ccrs.PlateCarree(), levels=[0.5], colors=\"black\")\n",
    "    plot2_marker = ax2.scatter(x=Features2_plot[\"longitude\"], y=Features2_plot[\"latitude\"], s=15, c=\"yellow\", marker=\"x\", transform=ccrs.PlateCarree())\n",
    "    \n",
    "    ax2.coastlines()\n",
    "    ax2.set_title(\"(b) Mixed System\", loc=\"left\", fontsize=18.0)\n",
    "    ax2.set_title(time_frame, loc=\"right\", fontsize=18.0)\n",
    "    ax2.set_xticks(np.arange(0.0, 360.0, 60.0), crs=ccrs.PlateCarree())\n",
    "    ax2.set_yticks(np.arange(-30.0, 45.0, 15.0), crs=ccrs.PlateCarree())\n",
    "    ax2.tick_params(labelsize=18.0)\n",
    "    ax2.xaxis.set_major_formatter(LongitudeFormatter(zero_direction_label=True))\n",
    "    ax2.yaxis.set_major_formatter(LatitudeFormatter())\n",
    "    \n",
    "    ax3 = fig.add_axes([1.0 / figx, 2.0 / figy, 10.0 / figx, 3.0 / figy], projection=ccrs.PlateCarree(central_longitude=210.0), aspect=\"auto\")\n",
    "    plot3 = ax3.pcolormesh(olr3_plot[\"longitude\"], olr3_plot[\"latitude\"], olr3_plot, transform=ccrs.PlateCarree(), shading=\"nearest\", cmap=\"RdBu_r\", vmin=-60.0, vmax=60.0, edgecolors=\"face\")\n",
    "    plot3_boundary = ax3.contour(lon3_plot, olr3_plot[\"latitude\"], Mask3_plot, transform=ccrs.PlateCarree(), levels=[0.5], colors=\"black\")\n",
    "    plot3_marker = ax3.scatter(x=Features3_plot[\"longitude\"], y=Features3_plot[\"latitude\"], s=15, c=\"yellow\", marker=\"x\", transform=ccrs.PlateCarree())\n",
    "    \n",
    "    ax3.coastlines()\n",
    "    ax3.set_title(\"(c) IG Wave\", loc=\"left\", fontsize=18.0)\n",
    "    ax3.set_title(time_frame, loc=\"right\", fontsize=18.0)\n",
    "    ax3.set_xticks(np.arange(0.0, 360.0, 60.0), crs=ccrs.PlateCarree())\n",
    "    ax3.set_yticks(np.arange(-30.0, 45.0, 15.0), crs=ccrs.PlateCarree())\n",
    "    ax3.tick_params(labelsize=18.0)\n",
    "    ax3.xaxis.set_major_formatter(LongitudeFormatter(zero_direction_label=True))\n",
    "    ax3.yaxis.set_major_formatter(LatitudeFormatter())\n",
    "    \n",
    "    cb_ax = fig.add_axes([0.25, 0.75 / figy, 0.5, 0.5 * figx / 20 / figy])\n",
    "    \n",
    "    cb = fig.colorbar(plot1, cax=cb_ax, orientation=\"horizontal\", extend=\"both\")\n",
    "    \n",
    "    cb_ax.set_xlabel(\"OLR Anomaly [W m**-2]\", fontsize=18.0)\n",
    "    cb_ax.tick_params(labelsize=18.0)\n",
    "\n",
    "animation = ani.FuncAnimation(fig=fig, func=update, frames=len(time_plot), interval=750)\n",
    "\n",
    "#HTML(animation.to_html5_video())\n",
    "animation.save(filename=\"/scratch/k10/mr4682/hk25-AusNode-ConvTrop/plots/tobac_examples.mp4\")"
   ]
  },
  {
   "cell_type": "code",
   "execution_count": null,
   "id": "a4c0ea4c-f2f0-400a-a3be-932ee46cab46",
   "metadata": {},
   "outputs": [],
   "source": [
    "Track = Track.loc[(pd.to_datetime(Track[\"timestr\"].values) >= pd.to_datetime(time_start)) & (pd.to_datetime(Track[\"timestr\"].values) <= pd.to_datetime(time_end))]"
   ]
  },
  {
   "cell_type": "code",
   "execution_count": null,
   "id": "9c3b8a99-b47a-47cf-824e-dab4ee1e5b0b",
   "metadata": {},
   "outputs": [],
   "source": []
  }
 ],
 "metadata": {
  "kernelspec": {
   "display_name": "hackathon_kernel + tobac",
   "language": "python",
   "name": "tobac_env"
  },
  "language_info": {
   "codemirror_mode": {
    "name": "ipython",
    "version": 3
   },
   "file_extension": ".py",
   "mimetype": "text/x-python",
   "name": "python",
   "nbconvert_exporter": "python",
   "pygments_lexer": "ipython3",
   "version": "3.11.11"
  }
 },
 "nbformat": 4,
 "nbformat_minor": 5
}

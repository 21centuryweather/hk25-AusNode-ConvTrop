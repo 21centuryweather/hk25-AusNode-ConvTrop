{
 "cells": [
  {
   "cell_type": "code",
   "execution_count": null,
   "id": "5c966c8c-d9b0-46eb-b20e-c545aaa71e55",
   "metadata": {},
   "outputs": [],
   "source": [
    "import numpy as np\n",
    "import pandas as pd\n",
    "import xarray as xr\n",
    "import iris\n",
    "import tobac\n",
    "import sys\n",
    "from glob import glob\n",
    "import matplotlib as mpl\n",
    "import matplotlib.pyplot as plt\n",
    "import matplotlib.animation as ani\n",
    "from IPython.display import HTML\n",
    "from cartopy import crs as ccrs\n",
    "from cartopy import util as cutil\n",
    "from cartopy.mpl.ticker import LatitudeFormatter, LongitudeFormatter\n",
    "\n",
    "%matplotlib inline"
   ]
  },
  {
   "cell_type": "code",
   "execution_count": null,
   "id": "b509bba4-1eb4-4910-938c-9a656c699959",
   "metadata": {},
   "outputs": [],
   "source": [
    "mode = \"Moisture Mode\"\n",
    "\n",
    "diri = \"/scratch/gb02/mr4682/data/regridded/UM/not_removing_tc/\"\n",
    "\n",
    "if mode == \"Moisture Mode\":\n",
    "    mode_str = \"moisture.mode\"\n",
    "    mode_var_name = \"moisture_mode\"\n",
    "    v_max = 9.0\n",
    "elif mode == \"Mixed System\":\n",
    "    mode_str = \"mixed.system\"\n",
    "    mode_var_name = \"mixed_system\"\n",
    "    v_max = 27.0\n",
    "elif mode == \"IG Wave\":\n",
    "    mode_str = \"ig.wave\"\n",
    "    mode_var_name = \"ig_wave\"\n",
    "    v_max = 50.0\n",
    "elif mode == \"Tropical Cyclone\":\n",
    "    modes_str = \"tc\"\n",
    "    mode_var_name = mode_str\n",
    "    v_max = 10.0\n",
    "else:\n",
    "    sys.exit(f\"There is no mode named {mode}!\")\n",
    "\n",
    "filei = f\"olr.zoom10.to.0p25deg.{mode_str}.nc\""
   ]
  },
  {
   "cell_type": "code",
   "execution_count": null,
   "id": "3a21bb36-3309-4e41-9486-3ffd30ccd8d6",
   "metadata": {},
   "outputs": [],
   "source": [
    "ds = xr.open_dataset(f\"{diri}{filei}\")"
   ]
  },
  {
   "cell_type": "code",
   "execution_count": null,
   "id": "0f0bc988-d650-47a3-9304-f8da9e78c744",
   "metadata": {},
   "outputs": [],
   "source": [
    "time_start = \"2020-12-01 00:00:00\"\n",
    "time_end = \"2021-02-28 21:00:00\""
   ]
  },
  {
   "cell_type": "code",
   "execution_count": null,
   "id": "d814b0b2-731e-4af3-820b-da6aa1069e5d",
   "metadata": {},
   "outputs": [],
   "source": [
    "time = ds[\"time\"].sel(time=slice(time_start, time_end))\n",
    "latitude = ds[\"latitude\"]\n",
    "longitude = ds[\"longitude\"]"
   ]
  },
  {
   "cell_type": "code",
   "execution_count": null,
   "id": "b9ab93be-be96-45b4-833b-d37732865adc",
   "metadata": {},
   "outputs": [],
   "source": [
    "time"
   ]
  },
  {
   "cell_type": "code",
   "execution_count": null,
   "id": "d72fbcf1-ed51-4f0e-b886-06be5fcecbfe",
   "metadata": {},
   "outputs": [],
   "source": [
    "olr = ds[f\"rlut_{mode_var_name}\"].sel(time=slice(time_start, time_end)).compute()\n",
    "olr"
   ]
  },
  {
   "cell_type": "code",
   "execution_count": null,
   "id": "cab64bc0-0559-4d40-81db-806fc5d76333",
   "metadata": {},
   "outputs": [],
   "source": [
    "olr_stddev = olr.std(ddof=1)"
   ]
  },
  {
   "cell_type": "code",
   "execution_count": null,
   "id": "4cfd8ef1-fc13-49ef-9fbb-4ba1abb7818f",
   "metadata": {},
   "outputs": [],
   "source": [
    "olr_standardised = olr / olr_stddev\n",
    "olr_standardised = olr_standardised.fillna(0.0)"
   ]
  },
  {
   "cell_type": "code",
   "execution_count": null,
   "id": "075869d2-1c4d-4893-97e5-35b697760368",
   "metadata": {},
   "outputs": [],
   "source": [
    "dxy = np.radians(longitude.values[1] - longitude.values[0]) * 6.371e+06\n",
    "dt = (time.values[1] - time.values[0]) / np.timedelta64(1, \"s\")"
   ]
  },
  {
   "cell_type": "code",
   "execution_count": null,
   "id": "3bf60bf8-c3b3-43d5-b0f7-cd83191957bf",
   "metadata": {},
   "outputs": [],
   "source": [
    "parameters_features = {}\n",
    "parameters_features[\"threshold\"] = [-2.0, -2.5, -3.0, -3.5, -4.0]\n",
    "parameters_features[\"target\"] = \"minimum\"\n",
    "parameters_features[\"position_threshold\"] = \"weighted_diff\"\n",
    "parameters_features[\"sigma_threshold\"] = 1.0\n",
    "parameters_features[\"n_min_threshold\"] = 4\n",
    "parameters_features[\"PBC_flag\"] = \"hdim_2\""
   ]
  },
  {
   "cell_type": "code",
   "execution_count": null,
   "id": "1d28f405-0409-4fec-9e9f-e733af68b153",
   "metadata": {},
   "outputs": [],
   "source": [
    "Features = tobac.feature_detection_multithreshold(olr_standardised, dxy, **parameters_features)"
   ]
  },
  {
   "cell_type": "code",
   "execution_count": null,
   "id": "8e3346bc-29c8-4d8f-8e4b-efae5fa69e43",
   "metadata": {},
   "outputs": [],
   "source": [
    "Features"
   ]
  },
  {
   "cell_type": "code",
   "execution_count": null,
   "id": "475a2be6-3c64-42ed-9098-acde3ce63fcb",
   "metadata": {},
   "outputs": [],
   "source": [
    "parameters_linking = {}\n",
    "parameters_linking[\"v_max\"] = v_max\n",
    "parameters_linking[\"stubs\"] = 3\n",
    "parameters_linking[\"method_linking\"] = \"predict\"\n",
    "parameters_linking[\"PBC_flag\"] = \"hdim_2\"\n",
    "parameters_linking[\"min_h2\"] = 0\n",
    "parameters_linking[\"max_h2\"] = len(longitude) - 1"
   ]
  },
  {
   "cell_type": "code",
   "execution_count": null,
   "id": "e8674689-6820-423b-9a55-758286426e32",
   "metadata": {},
   "outputs": [],
   "source": [
    "Track = tobac.linking_trackpy(Features, olr_standardised, dt=dt, dxy=dxy, **parameters_linking)"
   ]
  },
  {
   "cell_type": "code",
   "execution_count": null,
   "id": "341e83b8-de8f-4fbe-b5ac-9b2399106851",
   "metadata": {},
   "outputs": [],
   "source": [
    "parameters_segmentation = {}\n",
    "parameters_segmentation[\"target\"] = \"minimum\"\n",
    "parameters_segmentation[\"method\"] = \"watershed\"\n",
    "parameters_segmentation[\"threshold\"] = -2.0\n",
    "parameters_segmentation[\"PBC_flag\"] = \"hdim_2\""
   ]
  },
  {
   "cell_type": "code",
   "execution_count": null,
   "id": "64234c01-583b-4e59-8013-b9e456f2ff87",
   "metadata": {},
   "outputs": [],
   "source": [
    "Mask, Track = tobac.segmentation_2D(Track, olr_standardised, dxy, **parameters_segmentation)"
   ]
  },
  {
   "cell_type": "code",
   "execution_count": null,
   "id": "6272c319-b619-45ed-90a7-0f122a34a6a8",
   "metadata": {},
   "outputs": [],
   "source": [
    "time_plot_start = \"2021-01-01 00:00:00\"\n",
    "time_plot_end = \"2021-01-07 21:00:00\"\n",
    "\n",
    "time_plot = time.sel(time=slice(time_plot_start, time_plot_end))"
   ]
  },
  {
   "cell_type": "code",
   "execution_count": null,
   "id": "37ea5510-15b8-47da-9690-cb9e842761c5",
   "metadata": {},
   "outputs": [],
   "source": [
    "figx = 12.0\n",
    "figy = 8.0\n",
    "\n",
    "fig = plt.figure(figsize=(figx, figy))\n",
    "plt.close()\n",
    "\n",
    "def update(frame):\n",
    "    fig.clf()\n",
    "    time_frame = np.datetime_as_string(time_plot.values[frame], unit=\"s\")\n",
    "    olr_plot = olr.sel(time=time_frame)\n",
    "    \n",
    "    Features_plot = Features.loc[pd.to_datetime(Features[\"timestr\"]) == pd.to_datetime(time_frame)]\n",
    "    Mask_plot = Mask.sel(time=time_frame)\n",
    "    \n",
    "    Mask_plot, lon_plot = cutil.add_cyclic(Mask_plot, x=Mask_plot[\"longitude\"])\n",
    "    \n",
    "    ax = fig.add_axes([1.0 / figx, 2.0 / figy, 10.0 / figx, 5.0 / figy], projection=ccrs.PlateCarree(central_longitude=210.0), aspect=\"auto\")\n",
    "    plot = ax.pcolormesh(olr_plot[\"longitude\"], olr_plot[\"latitude\"], olr_plot, transform=ccrs.PlateCarree(), shading=\"nearest\", cmap=\"RdBu_r\", vmin=-60.0, vmax=60.0, edgecolors=\"face\")\n",
    "    plot_boundary = ax.contour(lon_plot, olr_plot[\"latitude\"], Mask_plot, transform=ccrs.PlateCarree(), levels=[0.5], colors=\"black\")\n",
    "    plot_marker = ax.scatter(x=Features_plot[\"longitude\"], y=Features_plot[\"latitude\"], s=15, c=\"yellow\", marker=\"x\", transform=ccrs.PlateCarree())\n",
    "    \n",
    "    ax.coastlines()\n",
    "    ax.set_title(f\"{mode}\", loc=\"left\", fontsize=18.0)\n",
    "    ax.set_title(time_frame, loc=\"right\", fontsize=18.0)\n",
    "    ax.set_xticks(np.arange(0.0, 360.0, 60.0), crs=ccrs.PlateCarree())\n",
    "    ax.set_yticks(np.arange(-30.0, 45.0, 15.0), crs=ccrs.PlateCarree())\n",
    "    ax.tick_params(labelsize=18.0)\n",
    "    ax.xaxis.set_major_formatter(LongitudeFormatter(zero_direction_label=True))\n",
    "    ax.yaxis.set_major_formatter(LatitudeFormatter())\n",
    "    \n",
    "    cb_ax = fig.add_axes([0.25, 0.75 / figy, 0.5, 0.5 * figx / 20 / figy])\n",
    "    \n",
    "    cb = fig.colorbar(plot, cax=cb_ax, orientation=\"horizontal\", extend=\"both\")\n",
    "    \n",
    "    cb_ax.set_xlabel(\"OLR Anomaly [W m**-2]\", fontsize=18.0)\n",
    "    cb_ax.tick_params(labelsize=18.0)\n",
    "\n",
    "animation = ani.FuncAnimation(fig=fig, func=update, frames=len(time_plot), interval=750)\n",
    "\n",
    "HTML(animation.to_html5_video())"
   ]
  },
  {
   "cell_type": "code",
   "execution_count": null,
   "id": "5e5fbc21-702a-4129-b3ee-61692329a021",
   "metadata": {},
   "outputs": [],
   "source": []
  }
 ],
 "metadata": {
  "kernelspec": {
   "display_name": "hackathon_kernel + tobac",
   "language": "python",
   "name": "tobac_env"
  },
  "language_info": {
   "codemirror_mode": {
    "name": "ipython",
    "version": 3
   },
   "file_extension": ".py",
   "mimetype": "text/x-python",
   "name": "python",
   "nbconvert_exporter": "python",
   "pygments_lexer": "ipython3",
   "version": "3.11.11"
  }
 },
 "nbformat": 4,
 "nbformat_minor": 5
}
